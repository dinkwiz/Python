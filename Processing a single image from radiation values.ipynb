{
 "cells": [
  {
   "cell_type": "markdown",
   "metadata": {},
   "source": [
    "The following cell contains all the import statements you'll require to complete this"
   ]
  },
  {
   "cell_type": "code",
   "execution_count": 3,
   "metadata": {},
   "outputs": [
    {
     "ename": "ModuleNotFoundError",
     "evalue": "No module named 'corrections'",
     "output_type": "error",
     "traceback": [
      "\u001b[1;31m---------------------------------------------------------------------------\u001b[0m",
      "\u001b[1;31mModuleNotFoundError\u001b[0m                       Traceback (most recent call last)",
      "\u001b[1;32m<ipython-input-3-6707a2444665>\u001b[0m in \u001b[0;36m<module>\u001b[1;34m()\u001b[0m\n\u001b[0;32m      1\u001b[0m \u001b[1;32mimport\u001b[0m \u001b[0mpyspectral\u001b[0m\u001b[1;33m\u001b[0m\u001b[0m\n\u001b[0;32m      2\u001b[0m \u001b[1;32mimport\u001b[0m \u001b[0mpysolar\u001b[0m\u001b[1;33m\u001b[0m\u001b[0m\n\u001b[1;32m----> 3\u001b[1;33m \u001b[1;32mfrom\u001b[0m \u001b[0mcorrections\u001b[0m \u001b[1;32mimport\u001b[0m \u001b[0mrayleighcorr\u001b[0m \u001b[1;32mas\u001b[0m \u001b[0mrayc\u001b[0m\u001b[1;33m\u001b[0m\u001b[0m\n\u001b[0m\u001b[0;32m      4\u001b[0m \u001b[1;32mfrom\u001b[0m \u001b[0mcorrections\u001b[0m \u001b[1;32mimport\u001b[0m \u001b[0mresolutioncorr\u001b[0m \u001b[1;32mas\u001b[0m \u001b[0mresc\u001b[0m\u001b[1;33m\u001b[0m\u001b[0m\n\u001b[0;32m      5\u001b[0m \u001b[1;32mfrom\u001b[0m \u001b[0mnetCDF4\u001b[0m \u001b[1;32mimport\u001b[0m \u001b[0mDataset\u001b[0m\u001b[1;33m\u001b[0m\u001b[0m\n",
      "\u001b[1;31mModuleNotFoundError\u001b[0m: No module named 'corrections'"
     ]
    }
   ],
   "source": [
    "import pyspectral\n",
    "import pysolar\n",
    "from corrections import rayleighcorr as rayc\n",
    "from corrections import resolutioncorr as resc\n",
    "from netCDF4 import Dataset\n",
    "import numpy as np\n",
    "from matplotlib import pyplot as plt"
   ]
  },
  {
   "cell_type": "markdown",
   "metadata": {},
   "source": [
    "The following cell contains the base path for the netCDF files with the data from the satellite as well as a single file's filename, and finally a complete file path for that file"
   ]
  },
  {
   "cell_type": "code",
   "execution_count": 5,
   "metadata": {},
   "outputs": [],
   "source": [
    "path='AWSCut\\\\L1_RADF\\\\'\n",
    "#Reading in Channel 1 Data (1 km resolution)\n",
    "filename1='OR_ABI-L1b-RadF-M3C01_G16_s20172491300352_e20172491311119_c20172491311197.nc'\n",
    "file1= path+ 'Channel01\\\\'+ filename1"
   ]
  },
  {
   "cell_type": "markdown",
   "metadata": {},
   "source": [
    "In the following cell, create a dataset from the channel 1 file using Dataset(file1,'r') then access the variables for Latitude, Longitude and Rad values and store the results"
   ]
  },
  {
   "cell_type": "code",
   "execution_count": null,
   "metadata": {},
   "outputs": [],
   "source": []
  },
  {
   "cell_type": "markdown",
   "metadata": {},
   "source": [
    "In the following cell, repeat the above step, but this time replace channel 1 with the channel 2 data. The second filename has been provided as a variable, filename2"
   ]
  },
  {
   "cell_type": "code",
   "execution_count": 2,
   "metadata": {},
   "outputs": [],
   "source": [
    "filename2='OR_ABI-L1b-RadF-M3C02_G16_s20172491300352_e20172491311119_c20172491311194.nc'\n"
   ]
  },
  {
   "cell_type": "markdown",
   "metadata": {},
   "source": [
    "Decrease the resolution of the Channel 2 scenes from 0.5km to 1km using the resolutioncorrection (with the alias resc) function in corrections.py\n",
    "Store the resulting adjusted latitudes,longitudes, and radiation values. Depending on your machine, this can take a little bit of time, so ensure it has completed before running the next cell"
   ]
  },
  {
   "cell_type": "code",
   "execution_count": null,
   "metadata": {},
   "outputs": [],
   "source": []
  },
  {
   "cell_type": "markdown",
   "metadata": {},
   "source": [
    "Read in the channel 3 data, and create a dataset then  access the variables for Latitude, Longitude and Rad values and store the results. The name for the channel 3 file has been provided"
   ]
  },
  {
   "cell_type": "code",
   "execution_count": null,
   "metadata": {},
   "outputs": [],
   "source": [
    "filename3='OR_ABI-L1b-RadF-M3C03_G16_s20172491300352_e20172491311119_c20172491311197.nc'"
   ]
  },
  {
   "cell_type": "markdown",
   "metadata": {},
   "source": [
    "Apply the atmospheric and Rayleigh correction using the rayleighcorrection function (alias rayc) from the corrections.py file. \n",
    "The structure is as follows, where rrc is a variable to store the returned red rayleigh corrected values, grc for the green, and brc for the blue\n",
    "rrc, grc, brc = rayc(filename of channel1, latitude array of channel 1, longitude array of channel 1, latitude array of channel 2, longitude array of channel 2, channel 1 radiation array, channel 2 radiation array, channel 3 radiation array)"
   ]
  },
  {
   "cell_type": "code",
   "execution_count": null,
   "metadata": {},
   "outputs": [],
   "source": []
  },
  {
   "cell_type": "markdown",
   "metadata": {},
   "source": [
    "Set up an image variable using the numpy method zeros with a height 700, width 1000, and 3 channels\n",
    "Next, normalise the red green and blue values (rrc, grc and brc from the previous step) and combine them into the image constructed. It looks like image[]=rrc[:,:]/rrc.max() for the red channel "
   ]
  },
  {
   "cell_type": "code",
   "execution_count": null,
   "metadata": {},
   "outputs": [],
   "source": []
  },
  {
   "cell_type": "markdown",
   "metadata": {},
   "source": [
    "Finally, use the imshow function from pyplot and pass in the image variable from above, this will show you the image. Be patient, it can take a little time. You can also save the image by using the savefig method of pyplot."
   ]
  },
  {
   "cell_type": "code",
   "execution_count": null,
   "metadata": {},
   "outputs": [],
   "source": []
  }
 ],
 "metadata": {
  "kernelspec": {
   "display_name": "Python 3",
   "language": "python",
   "name": "python3"
  },
  "language_info": {
   "codemirror_mode": {
    "name": "ipython",
    "version": 3
   },
   "file_extension": ".py",
   "mimetype": "text/x-python",
   "name": "python",
   "nbconvert_exporter": "python",
   "pygments_lexer": "ipython3",
   "version": "3.6.5"
  }
 },
 "nbformat": 4,
 "nbformat_minor": 2
}
